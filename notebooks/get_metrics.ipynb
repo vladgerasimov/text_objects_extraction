{
 "cells": [
  {
   "cell_type": "code",
   "execution_count": 7,
   "id": "c2b7d0e6-4e9d-4211-958d-812a8ae442a8",
   "metadata": {
    "is_executing": true
   },
   "outputs": [],
   "source": [
    "import sys\n",
    "import os\n",
    "import json\n",
    "from pathlib import Path\n",
    "\n",
    "import pandas as pd"
   ]
  },
  {
   "cell_type": "code",
   "execution_count": 2,
   "id": "b8a8af3a-0b81-436a-bf15-f90016f9e706",
   "metadata": {},
   "outputs": [],
   "source": [
    "root_dir = Path.cwd().parent"
   ]
  },
  {
   "cell_type": "code",
   "execution_count": 3,
   "id": "b774c5a6-6f45-40be-906c-7c5b56176387",
   "metadata": {},
   "outputs": [],
   "source": [
    "sys.path.append(str(root_dir))"
   ]
  },
  {
   "cell_type": "code",
   "execution_count": 4,
   "id": "6f38d66a-8ffa-4470-9eb6-d246ee344a6d",
   "metadata": {},
   "outputs": [],
   "source": [
    "from src.extractor.pos_extractor import PosExtractor\n",
    "from src.metrics.rouge_like import mean_rouge_like_metric"
   ]
  },
  {
   "cell_type": "code",
   "execution_count": 5,
   "id": "fff9dbaf-0ae5-4c1f-92fb-c346e95c9563",
   "metadata": {},
   "outputs": [
    {
     "data": {
      "text/html": [
       "<div>\n",
       "<style scoped>\n",
       "    .dataframe tbody tr th:only-of-type {\n",
       "        vertical-align: middle;\n",
       "    }\n",
       "\n",
       "    .dataframe tbody tr th {\n",
       "        vertical-align: top;\n",
       "    }\n",
       "\n",
       "    .dataframe thead th {\n",
       "        text-align: right;\n",
       "    }\n",
       "</style>\n",
       "<table border=\"1\" class=\"dataframe\">\n",
       "  <thead>\n",
       "    <tr style=\"text-align: right;\">\n",
       "      <th></th>\n",
       "      <th>text</th>\n",
       "      <th>target_spacy</th>\n",
       "    </tr>\n",
       "  </thead>\n",
       "  <tbody>\n",
       "    <tr>\n",
       "      <th>0</th>\n",
       "      <td>Man in apron standing on front of oven with pa...</td>\n",
       "      <td>{\"objects\": {\"Man\": [], \"apron\": [], \"front\": ...</td>\n",
       "    </tr>\n",
       "    <tr>\n",
       "      <th>1</th>\n",
       "      <td>A small kitchen has various appliances and a t...</td>\n",
       "      <td>{\"objects\": {\"kitchen\": [\"small\"], \"appliances...</td>\n",
       "    </tr>\n",
       "    <tr>\n",
       "      <th>2</th>\n",
       "      <td>The kitchen is clean and ready for us to see.</td>\n",
       "      <td>{\"objects\": {\"kitchen\": []}}</td>\n",
       "    </tr>\n",
       "    <tr>\n",
       "      <th>3</th>\n",
       "      <td>a homeless man holding a cup and standing next...</td>\n",
       "      <td>{\"objects\": {\"man\": [\"homeless\"], \"cup\": [], \"...</td>\n",
       "    </tr>\n",
       "    <tr>\n",
       "      <th>4</th>\n",
       "      <td>a blue bike parked on a side walk</td>\n",
       "      <td>{\"objects\": {\"bike\": [\"blue\"], \"side\": [], \"wa...</td>\n",
       "    </tr>\n",
       "  </tbody>\n",
       "</table>\n",
       "</div>"
      ],
      "text/plain": [
       "                                                text  \\\n",
       "0  Man in apron standing on front of oven with pa...   \n",
       "1  A small kitchen has various appliances and a t...   \n",
       "2      The kitchen is clean and ready for us to see.   \n",
       "3  a homeless man holding a cup and standing next...   \n",
       "4                 a blue bike parked on a side walk    \n",
       "\n",
       "                                        target_spacy  \n",
       "0  {\"objects\": {\"Man\": [], \"apron\": [], \"front\": ...  \n",
       "1  {\"objects\": {\"kitchen\": [\"small\"], \"appliances...  \n",
       "2                       {\"objects\": {\"kitchen\": []}}  \n",
       "3  {\"objects\": {\"man\": [\"homeless\"], \"cup\": [], \"...  \n",
       "4  {\"objects\": {\"bike\": [\"blue\"], \"side\": [], \"wa...  "
      ]
     },
     "execution_count": 5,
     "metadata": {},
     "output_type": "execute_result"
    }
   ],
   "source": [
    "val = pd.read_csv(root_dir / \"data\" / \"val.csv\")\n",
    "val.head()"
   ]
  },
  {
   "cell_type": "code",
   "execution_count": 6,
   "id": "baa90e44-a995-4666-b98f-56b3d22aed9c",
   "metadata": {},
   "outputs": [
    {
     "data": {
      "text/html": [
       "<div>\n",
       "<style scoped>\n",
       "    .dataframe tbody tr th:only-of-type {\n",
       "        vertical-align: middle;\n",
       "    }\n",
       "\n",
       "    .dataframe tbody tr th {\n",
       "        vertical-align: top;\n",
       "    }\n",
       "\n",
       "    .dataframe thead th {\n",
       "        text-align: right;\n",
       "    }\n",
       "</style>\n",
       "<table border=\"1\" class=\"dataframe\">\n",
       "  <thead>\n",
       "    <tr style=\"text-align: right;\">\n",
       "      <th></th>\n",
       "      <th>text</th>\n",
       "      <th>target_spacy</th>\n",
       "      <th>pos_pred</th>\n",
       "    </tr>\n",
       "  </thead>\n",
       "  <tbody>\n",
       "    <tr>\n",
       "      <th>0</th>\n",
       "      <td>Man in apron standing on front of oven with pa...</td>\n",
       "      <td>{\"objects\": {\"Man\": [], \"apron\": [], \"front\": ...</td>\n",
       "      <td>{'objects': {'man': [], 'front': [], 'pans': [...</td>\n",
       "    </tr>\n",
       "    <tr>\n",
       "      <th>1</th>\n",
       "      <td>A small kitchen has various appliances and a t...</td>\n",
       "      <td>{\"objects\": {\"kitchen\": [\"small\"], \"appliances...</td>\n",
       "      <td>{'objects': {'table': [], 'kitchen': ['small']...</td>\n",
       "    </tr>\n",
       "    <tr>\n",
       "      <th>2</th>\n",
       "      <td>The kitchen is clean and ready for us to see.</td>\n",
       "      <td>{\"objects\": {\"kitchen\": []}}</td>\n",
       "      <td>{'objects': {'kitchen': ['clean', 'ready']}}</td>\n",
       "    </tr>\n",
       "    <tr>\n",
       "      <th>3</th>\n",
       "      <td>a homeless man holding a cup and standing next...</td>\n",
       "      <td>{\"objects\": {\"man\": [\"homeless\"], \"cup\": [], \"...</td>\n",
       "      <td>{'objects': {'cup': [], 'shopping': [], 'cart'...</td>\n",
       "    </tr>\n",
       "    <tr>\n",
       "      <th>4</th>\n",
       "      <td>a blue bike parked on a side walk</td>\n",
       "      <td>{\"objects\": {\"bike\": [\"blue\"], \"side\": [], \"wa...</td>\n",
       "      <td>{'objects': {'side': [], 'walk': [], 'bike': [...</td>\n",
       "    </tr>\n",
       "  </tbody>\n",
       "</table>\n",
       "</div>"
      ],
      "text/plain": [
       "                                                text  \\\n",
       "0  Man in apron standing on front of oven with pa...   \n",
       "1  A small kitchen has various appliances and a t...   \n",
       "2      The kitchen is clean and ready for us to see.   \n",
       "3  a homeless man holding a cup and standing next...   \n",
       "4                 a blue bike parked on a side walk    \n",
       "\n",
       "                                        target_spacy  \\\n",
       "0  {\"objects\": {\"Man\": [], \"apron\": [], \"front\": ...   \n",
       "1  {\"objects\": {\"kitchen\": [\"small\"], \"appliances...   \n",
       "2                       {\"objects\": {\"kitchen\": []}}   \n",
       "3  {\"objects\": {\"man\": [\"homeless\"], \"cup\": [], \"...   \n",
       "4  {\"objects\": {\"bike\": [\"blue\"], \"side\": [], \"wa...   \n",
       "\n",
       "                                            pos_pred  \n",
       "0  {'objects': {'man': [], 'front': [], 'pans': [...  \n",
       "1  {'objects': {'table': [], 'kitchen': ['small']...  \n",
       "2       {'objects': {'kitchen': ['clean', 'ready']}}  \n",
       "3  {'objects': {'cup': [], 'shopping': [], 'cart'...  \n",
       "4  {'objects': {'side': [], 'walk': [], 'bike': [...  "
      ]
     },
     "execution_count": 6,
     "metadata": {},
     "output_type": "execute_result"
    }
   ],
   "source": [
    "extractor = PosExtractor()\n",
    "val[\"pos_pred\"] = val[\"text\"].apply(extractor.extract)\n",
    "val.head()"
   ]
  },
  {
   "cell_type": "code",
   "execution_count": 10,
   "id": "973e37df-dcba-4739-89cd-1370818131a1",
   "metadata": {},
   "outputs": [
    {
     "name": "stdout",
     "output_type": "stream",
     "text": [
      "metric=0.932\n",
      "metric_with_penalty=0.930\n"
     ]
    }
   ],
   "source": [
    "pred = val[\"pos_pred\"]\n",
    "target = val[\"target_spacy\"].apply(json.loads)\n",
    "\n",
    "metric = mean_rouge_like_metric(pred_col=pred, target_col=target)\n",
    "print(f\"{metric=:.3f}\")\n",
    "\n",
    "metric_with_penalty = mean_rouge_like_metric(pred_col=pred, target_col=target, penalty=True)\n",
    "print(f\"{metric_with_penalty=:.3f}\")"
   ]
  },
  {
   "cell_type": "code",
   "execution_count": null,
   "id": "370d126c-9ddf-4de0-b640-1404316207e1",
   "metadata": {},
   "outputs": [],
   "source": []
  }
 ],
 "metadata": {
  "kernelspec": {
   "display_name": "poetry_env",
   "language": "python",
   "name": "poetry_env"
  },
  "language_info": {
   "codemirror_mode": {
    "name": "ipython",
    "version": 3
   },
   "file_extension": ".py",
   "mimetype": "text/x-python",
   "name": "python",
   "nbconvert_exporter": "python",
   "pygments_lexer": "ipython3",
   "version": "3.12.2"
  }
 },
 "nbformat": 4,
 "nbformat_minor": 5
}
