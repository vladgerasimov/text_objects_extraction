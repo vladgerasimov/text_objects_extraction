{
 "cells": [
  {
   "cell_type": "code",
   "execution_count": 1,
   "id": "c2b7d0e6-4e9d-4211-958d-812a8ae442a8",
   "metadata": {
    "is_executing": true
   },
   "outputs": [],
   "source": [
    "import sys\n",
    "import os\n",
    "import json\n",
    "from pathlib import Path\n",
    "\n",
    "import pandas as pd"
   ]
  },
  {
   "cell_type": "code",
   "execution_count": 2,
   "id": "b8a8af3a-0b81-436a-bf15-f90016f9e706",
   "metadata": {},
   "outputs": [],
   "source": [
    "root_dir = Path.cwd().parent"
   ]
  },
  {
   "cell_type": "code",
   "execution_count": 3,
   "id": "b774c5a6-6f45-40be-906c-7c5b56176387",
   "metadata": {},
   "outputs": [],
   "source": [
    "sys.path.append(str(root_dir))"
   ]
  },
  {
   "cell_type": "code",
   "execution_count": 4,
   "id": "6f38d66a-8ffa-4470-9eb6-d246ee344a6d",
   "metadata": {},
   "outputs": [
    {
     "name": "stderr",
     "output_type": "stream",
     "text": [
      "/Users/user/anaconda3/envs/poetry_env/lib/python3.12/site-packages/tqdm/auto.py:21: TqdmWarning: IProgress not found. Please update jupyter and ipywidgets. See https://ipywidgets.readthedocs.io/en/stable/user_install.html\n",
      "  from .autonotebook import tqdm as notebook_tqdm\n"
     ]
    }
   ],
   "source": [
    "from src.extractor.pos_extractor import PosExtractor\n",
    "from src.metrics.rouge_like import mean_rouge_like_metric"
   ]
  },
  {
   "cell_type": "code",
   "execution_count": 5,
   "id": "fff9dbaf-0ae5-4c1f-92fb-c346e95c9563",
   "metadata": {},
   "outputs": [
    {
     "data": {
      "text/html": [
       "<div>\n",
       "<style scoped>\n",
       "    .dataframe tbody tr th:only-of-type {\n",
       "        vertical-align: middle;\n",
       "    }\n",
       "\n",
       "    .dataframe tbody tr th {\n",
       "        vertical-align: top;\n",
       "    }\n",
       "\n",
       "    .dataframe thead th {\n",
       "        text-align: right;\n",
       "    }\n",
       "</style>\n",
       "<table border=\"1\" class=\"dataframe\">\n",
       "  <thead>\n",
       "    <tr style=\"text-align: right;\">\n",
       "      <th></th>\n",
       "      <th>text</th>\n",
       "      <th>target_spacy</th>\n",
       "      <th>target_gpt_3.5</th>\n",
       "    </tr>\n",
       "  </thead>\n",
       "  <tbody>\n",
       "    <tr>\n",
       "      <th>0</th>\n",
       "      <td>Man in apron standing on front of oven with pa...</td>\n",
       "      <td>{\"objects\": {\"Man\": [], \"apron\": [], \"front\": ...</td>\n",
       "      <td>{\"objects\": {\"man\": [\"apron\"], \"oven\": [], \"pa...</td>\n",
       "    </tr>\n",
       "    <tr>\n",
       "      <th>1</th>\n",
       "      <td>A small kitchen has various appliances and a t...</td>\n",
       "      <td>{\"objects\": {\"kitchen\": [\"small\"], \"appliances...</td>\n",
       "      <td>{\"objects\": {\"kitchen\": [\"small\"], \"appliances...</td>\n",
       "    </tr>\n",
       "    <tr>\n",
       "      <th>2</th>\n",
       "      <td>The kitchen is clean and ready for us to see.</td>\n",
       "      <td>{\"objects\": {\"kitchen\": []}}</td>\n",
       "      <td>{\"objects\": {\"kitchen\": [\"clean\"], \"us\": []}}</td>\n",
       "    </tr>\n",
       "    <tr>\n",
       "      <th>3</th>\n",
       "      <td>a homeless man holding a cup and standing next...</td>\n",
       "      <td>{\"objects\": {\"man\": [\"homeless\"], \"cup\": [], \"...</td>\n",
       "      <td>{\"objects\": {\"man\": [\"homeless\"], \"cup\": [], \"...</td>\n",
       "    </tr>\n",
       "    <tr>\n",
       "      <th>4</th>\n",
       "      <td>a blue bike parked on a side walk</td>\n",
       "      <td>{\"objects\": {\"bike\": [\"blue\"], \"side\": [], \"wa...</td>\n",
       "      <td>{\"objects\": {\"bike\": [\"blue\"], \"side walk\": []}}</td>\n",
       "    </tr>\n",
       "  </tbody>\n",
       "</table>\n",
       "</div>"
      ],
      "text/plain": [
       "                                                text  \\\n",
       "0  Man in apron standing on front of oven with pa...   \n",
       "1  A small kitchen has various appliances and a t...   \n",
       "2      The kitchen is clean and ready for us to see.   \n",
       "3  a homeless man holding a cup and standing next...   \n",
       "4                 a blue bike parked on a side walk    \n",
       "\n",
       "                                        target_spacy  \\\n",
       "0  {\"objects\": {\"Man\": [], \"apron\": [], \"front\": ...   \n",
       "1  {\"objects\": {\"kitchen\": [\"small\"], \"appliances...   \n",
       "2                       {\"objects\": {\"kitchen\": []}}   \n",
       "3  {\"objects\": {\"man\": [\"homeless\"], \"cup\": [], \"...   \n",
       "4  {\"objects\": {\"bike\": [\"blue\"], \"side\": [], \"wa...   \n",
       "\n",
       "                                      target_gpt_3.5  \n",
       "0  {\"objects\": {\"man\": [\"apron\"], \"oven\": [], \"pa...  \n",
       "1  {\"objects\": {\"kitchen\": [\"small\"], \"appliances...  \n",
       "2      {\"objects\": {\"kitchen\": [\"clean\"], \"us\": []}}  \n",
       "3  {\"objects\": {\"man\": [\"homeless\"], \"cup\": [], \"...  \n",
       "4   {\"objects\": {\"bike\": [\"blue\"], \"side walk\": []}}  "
      ]
     },
     "execution_count": 5,
     "metadata": {},
     "output_type": "execute_result"
    }
   ],
   "source": [
    "val = pd.read_csv(root_dir / \"data\" / \"val.csv\")\n",
    "val.head()"
   ]
  },
  {
   "cell_type": "markdown",
   "id": "c82be48e-c102-4d55-ad36-c17ad593aa83",
   "metadata": {},
   "source": [
    "### POS extractor:"
   ]
  },
  {
   "cell_type": "markdown",
   "id": "2a84d34c-1ddc-4040-bae9-9da03c241fad",
   "metadata": {},
   "source": [
    "#### spacy target:"
   ]
  },
  {
   "cell_type": "code",
   "execution_count": 6,
   "id": "baa90e44-a995-4666-b98f-56b3d22aed9c",
   "metadata": {},
   "outputs": [
    {
     "data": {
      "text/html": [
       "<div>\n",
       "<style scoped>\n",
       "    .dataframe tbody tr th:only-of-type {\n",
       "        vertical-align: middle;\n",
       "    }\n",
       "\n",
       "    .dataframe tbody tr th {\n",
       "        vertical-align: top;\n",
       "    }\n",
       "\n",
       "    .dataframe thead th {\n",
       "        text-align: right;\n",
       "    }\n",
       "</style>\n",
       "<table border=\"1\" class=\"dataframe\">\n",
       "  <thead>\n",
       "    <tr style=\"text-align: right;\">\n",
       "      <th></th>\n",
       "      <th>text</th>\n",
       "      <th>target_spacy</th>\n",
       "      <th>target_gpt_3.5</th>\n",
       "      <th>pos_pred</th>\n",
       "    </tr>\n",
       "  </thead>\n",
       "  <tbody>\n",
       "    <tr>\n",
       "      <th>0</th>\n",
       "      <td>Man in apron standing on front of oven with pa...</td>\n",
       "      <td>{\"objects\": {\"Man\": [], \"apron\": [], \"front\": ...</td>\n",
       "      <td>{\"objects\": {\"man\": [\"apron\"], \"oven\": [], \"pa...</td>\n",
       "      <td>{'objects': {'man': [], 'front': [], 'pans': [...</td>\n",
       "    </tr>\n",
       "    <tr>\n",
       "      <th>1</th>\n",
       "      <td>A small kitchen has various appliances and a t...</td>\n",
       "      <td>{\"objects\": {\"kitchen\": [\"small\"], \"appliances...</td>\n",
       "      <td>{\"objects\": {\"kitchen\": [\"small\"], \"appliances...</td>\n",
       "      <td>{'objects': {'table': [], 'kitchen': ['small']...</td>\n",
       "    </tr>\n",
       "    <tr>\n",
       "      <th>2</th>\n",
       "      <td>The kitchen is clean and ready for us to see.</td>\n",
       "      <td>{\"objects\": {\"kitchen\": []}}</td>\n",
       "      <td>{\"objects\": {\"kitchen\": [\"clean\"], \"us\": []}}</td>\n",
       "      <td>{'objects': {'kitchen': ['clean', 'ready']}}</td>\n",
       "    </tr>\n",
       "    <tr>\n",
       "      <th>3</th>\n",
       "      <td>a homeless man holding a cup and standing next...</td>\n",
       "      <td>{\"objects\": {\"man\": [\"homeless\"], \"cup\": [], \"...</td>\n",
       "      <td>{\"objects\": {\"man\": [\"homeless\"], \"cup\": [], \"...</td>\n",
       "      <td>{'objects': {'cup': [], 'shopping': [], 'cart'...</td>\n",
       "    </tr>\n",
       "    <tr>\n",
       "      <th>4</th>\n",
       "      <td>a blue bike parked on a side walk</td>\n",
       "      <td>{\"objects\": {\"bike\": [\"blue\"], \"side\": [], \"wa...</td>\n",
       "      <td>{\"objects\": {\"bike\": [\"blue\"], \"side walk\": []}}</td>\n",
       "      <td>{'objects': {'side': [], 'walk': [], 'bike': [...</td>\n",
       "    </tr>\n",
       "  </tbody>\n",
       "</table>\n",
       "</div>"
      ],
      "text/plain": [
       "                                                text  \\\n",
       "0  Man in apron standing on front of oven with pa...   \n",
       "1  A small kitchen has various appliances and a t...   \n",
       "2      The kitchen is clean and ready for us to see.   \n",
       "3  a homeless man holding a cup and standing next...   \n",
       "4                 a blue bike parked on a side walk    \n",
       "\n",
       "                                        target_spacy  \\\n",
       "0  {\"objects\": {\"Man\": [], \"apron\": [], \"front\": ...   \n",
       "1  {\"objects\": {\"kitchen\": [\"small\"], \"appliances...   \n",
       "2                       {\"objects\": {\"kitchen\": []}}   \n",
       "3  {\"objects\": {\"man\": [\"homeless\"], \"cup\": [], \"...   \n",
       "4  {\"objects\": {\"bike\": [\"blue\"], \"side\": [], \"wa...   \n",
       "\n",
       "                                      target_gpt_3.5  \\\n",
       "0  {\"objects\": {\"man\": [\"apron\"], \"oven\": [], \"pa...   \n",
       "1  {\"objects\": {\"kitchen\": [\"small\"], \"appliances...   \n",
       "2      {\"objects\": {\"kitchen\": [\"clean\"], \"us\": []}}   \n",
       "3  {\"objects\": {\"man\": [\"homeless\"], \"cup\": [], \"...   \n",
       "4   {\"objects\": {\"bike\": [\"blue\"], \"side walk\": []}}   \n",
       "\n",
       "                                            pos_pred  \n",
       "0  {'objects': {'man': [], 'front': [], 'pans': [...  \n",
       "1  {'objects': {'table': [], 'kitchen': ['small']...  \n",
       "2       {'objects': {'kitchen': ['clean', 'ready']}}  \n",
       "3  {'objects': {'cup': [], 'shopping': [], 'cart'...  \n",
       "4  {'objects': {'side': [], 'walk': [], 'bike': [...  "
      ]
     },
     "execution_count": 6,
     "metadata": {},
     "output_type": "execute_result"
    }
   ],
   "source": [
    "extractor = PosExtractor()\n",
    "val[\"pos_pred\"] = val[\"text\"].apply(extractor.extract)\n",
    "val.head()"
   ]
  },
  {
   "cell_type": "code",
   "execution_count": 10,
   "id": "973e37df-dcba-4739-89cd-1370818131a1",
   "metadata": {},
   "outputs": [
    {
     "name": "stdout",
     "output_type": "stream",
     "text": [
      "metric=0.932\n",
      "metric_with_penalty=0.930\n"
     ]
    }
   ],
   "source": [
    "pred = val[\"pos_pred\"]\n",
    "target = val[\"target_spacy\"].apply(json.loads)\n",
    "\n",
    "metric = mean_rouge_like_metric(pred_col=pred, target_col=target)\n",
    "print(f\"{metric=:.3f}\")\n",
    "\n",
    "metric_with_penalty = mean_rouge_like_metric(pred_col=pred, target_col=target, penalty=True)\n",
    "print(f\"{metric_with_penalty=:.3f}\")"
   ]
  },
  {
   "cell_type": "markdown",
   "id": "eed896db-a008-4001-9deb-b874a6fe27ce",
   "metadata": {},
   "source": [
    "#### gpt-3.5 target"
   ]
  },
  {
   "cell_type": "code",
   "execution_count": 22,
   "id": "c6c8fc7a-82ab-4885-aea7-b1289f384814",
   "metadata": {},
   "outputs": [
    {
     "name": "stdout",
     "output_type": "stream",
     "text": [
      "12697\n",
      "12694\n"
     ]
    }
   ],
   "source": [
    "print(len(val))\n",
    "val = val[val[\"target_gpt_3.5\"].apply(json.loads) != {\"objects\": {}}]\n",
    "print(len(val))"
   ]
  },
  {
   "cell_type": "code",
   "execution_count": 23,
   "id": "aac7fb97-c8be-4084-880d-5912b7b135d1",
   "metadata": {},
   "outputs": [
    {
     "name": "stdout",
     "output_type": "stream",
     "text": [
      "metric=0.687\n",
      "metric_with_penalty=0.108\n"
     ]
    }
   ],
   "source": [
    "pred = val[\"pos_pred\"]\n",
    "target = val[\"target_gpt_3.5\"].apply(json.loads)\n",
    "\n",
    "metric = mean_rouge_like_metric(pred_col=pred, target_col=target)\n",
    "print(f\"{metric=:.3f}\")\n",
    "\n",
    "metric_with_penalty = mean_rouge_like_metric(pred_col=pred, target_col=target, penalty=True)\n",
    "print(f\"{metric_with_penalty=:.3f}\")"
   ]
  },
  {
   "cell_type": "markdown",
   "id": "0ccfb452-6b52-4c34-b24f-39dcd92f48b3",
   "metadata": {},
   "source": [
    "### BERT extractor: average first 6 attention layers"
   ]
  },
  {
   "cell_type": "markdown",
   "id": "51fc5354-8ac9-4354-b975-b8f382aed955",
   "metadata": {},
   "source": [
    "#### spacy target:"
   ]
  },
  {
   "cell_type": "code",
   "execution_count": 6,
   "id": "e3266a9f-7674-4ab0-9d5a-331c27012382",
   "metadata": {},
   "outputs": [],
   "source": [
    "from src.extractor import BertExtractor\n",
    "from src.core.settings import BertExtractorSettings"
   ]
  },
  {
   "cell_type": "code",
   "execution_count": 7,
   "id": "370d126c-9ddf-4de0-b640-1404316207e1",
   "metadata": {},
   "outputs": [
    {
     "name": "stderr",
     "output_type": "stream",
     "text": [
      "/Users/user/anaconda3/envs/poetry_env/lib/python3.12/site-packages/huggingface_hub/file_download.py:1132: FutureWarning: `resume_download` is deprecated and will be removed in version 1.0.0. Downloads always resume when possible. If you want to force a new download, use `force_download=True`.\n",
      "  warnings.warn(\n",
      "Some weights of the model checkpoint at google-bert/bert-base-uncased were not used when initializing BertForMaskedLM: ['bert.pooler.dense.bias', 'bert.pooler.dense.weight', 'cls.seq_relationship.bias', 'cls.seq_relationship.weight']\n",
      "- This IS expected if you are initializing BertForMaskedLM from the checkpoint of a model trained on another task or with another architecture (e.g. initializing a BertForSequenceClassification model from a BertForPreTraining model).\n",
      "- This IS NOT expected if you are initializing BertForMaskedLM from the checkpoint of a model that you expect to be exactly identical (initializing a BertForSequenceClassification model from a BertForSequenceClassification model).\n"
     ]
    },
    {
     "data": {
      "text/plain": [
       "BertExtractorSettings(pretrained_model_name='google-bert/bert-base-uncased', process_attentions=<ProcessAttentions.get_all_mean: 'get_all_mean'>, n_blocks_to_average=6)"
      ]
     },
     "execution_count": 7,
     "metadata": {},
     "output_type": "execute_result"
    }
   ],
   "source": [
    "extractor = BertExtractor(BertExtractorSettings.from_yaml(root_dir / \"configs\" / \"bert_extractor_settings.yaml\"))\n",
    "extractor.config"
   ]
  },
  {
   "cell_type": "code",
   "execution_count": 8,
   "id": "4771155d-c2f2-41bc-9997-d7c7da08a455",
   "metadata": {},
   "outputs": [],
   "source": [
    "# pred = []\n",
    "\n",
    "# for text in val[\"text\"]:\n",
    "#     pred.append(extractor.extract(text))"
   ]
  },
  {
   "cell_type": "code",
   "execution_count": 8,
   "id": "0b5188c0-afd5-4bc5-82b4-dd71a6994a89",
   "metadata": {},
   "outputs": [
    {
     "name": "stdout",
     "output_type": "stream",
     "text": [
      "metric=0.995\n",
      "metric_with_penalty=0.991\n"
     ]
    }
   ],
   "source": [
    "pred = val[\"text\"].apply(extractor.extract)\n",
    "target = val[\"target_spacy\"].apply(json.loads)\n",
    "\n",
    "metric = mean_rouge_like_metric(pred_col=pred, target_col=target)\n",
    "print(f\"{metric=:.3f}\")\n",
    "\n",
    "metric_with_penalty = mean_rouge_like_metric(pred_col=pred, target_col=target, penalty=True)\n",
    "print(f\"{metric_with_penalty=:.3f}\")"
   ]
  },
  {
   "cell_type": "code",
   "execution_count": 11,
   "id": "d346bf82-efe0-42c5-a1b3-062ce29c3cf9",
   "metadata": {},
   "outputs": [
    {
     "name": "stdout",
     "output_type": "stream",
     "text": [
      "metric=0.340\n",
      "metric_with_penalty=0.339\n"
     ]
    }
   ],
   "source": [
    "# "
   ]
  },
  {
   "cell_type": "markdown",
   "id": "bf080bcf-b1c7-4401-92dd-06313ef08411",
   "metadata": {},
   "source": [
    "#### gpt-3.5 target"
   ]
  },
  {
   "cell_type": "code",
   "execution_count": 9,
   "id": "c5c070b9-ed64-4d4f-b249-520c335174b7",
   "metadata": {},
   "outputs": [
    {
     "name": "stdout",
     "output_type": "stream",
     "text": [
      "metric=0.227\n",
      "metric_with_penalty=-0.965\n"
     ]
    }
   ],
   "source": [
    "val = val[val[\"target_gpt_3.5\"].apply(json.loads) != {\"objects\": {}}]\n",
    "\n",
    "target = val[\"target_gpt_3.5\"].apply(json.loads)\n",
    "\n",
    "metric = mean_rouge_like_metric(pred_col=pred, target_col=target)\n",
    "print(f\"{metric=:.3f}\")\n",
    "\n",
    "metric_with_penalty = mean_rouge_like_metric(pred_col=pred, target_col=target, penalty=True)\n",
    "print(f\"{metric_with_penalty=:.3f}\")"
   ]
  },
  {
   "cell_type": "code",
   "execution_count": 13,
   "id": "8fd5403a-4ce0-466e-9f78-722234bbfaef",
   "metadata": {},
   "outputs": [
    {
     "name": "stdout",
     "output_type": "stream",
     "text": [
      "metric=0.083\n",
      "metric_with_penalty=-0.266\n"
     ]
    }
   ],
   "source": [
    "# val = val[val[\"target_gpt_3.5\"].apply(json.loads) != {\"objects\": {}}]\n",
    "\n",
    "# target = val[\"target_gpt_3.5\"].apply(json.loads)\n",
    "\n",
    "# metric = mean_rouge_like_metric(pred_col=pred, target_col=target)\n",
    "# print(f\"{metric=:.3f}\")\n",
    "\n",
    "# metric_with_penalty = mean_rouge_like_metric(pred_col=pred, target_col=target, penalty=True)\n",
    "# print(f\"{metric_with_penalty=:.3f}\")"
   ]
  },
  {
   "cell_type": "code",
   "execution_count": 17,
   "id": "3ab2aa6f-e9e0-4bb4-a7b5-e8af31c8204e",
   "metadata": {},
   "outputs": [
    {
     "data": {
      "text/plain": [
       "0    Man in apron standing on front of oven with pa...\n",
       "1    A small kitchen has various appliances and a t...\n",
       "2        The kitchen is clean and ready for us to see.\n",
       "Name: text, dtype: object"
      ]
     },
     "execution_count": 17,
     "metadata": {},
     "output_type": "execute_result"
    }
   ],
   "source": [
    "val[\"text\"][:3]"
   ]
  },
  {
   "cell_type": "code",
   "execution_count": 18,
   "id": "2e94967e-7fdf-4050-8042-8c4ca4ac9a06",
   "metadata": {},
   "outputs": [
    {
     "data": {
      "text/plain": [
       "'Man in apron standing on front of oven with pans and bakeware'"
      ]
     },
     "execution_count": 18,
     "metadata": {},
     "output_type": "execute_result"
    }
   ],
   "source": [
    "val[\"text\"].iloc[0]"
   ]
  },
  {
   "cell_type": "code",
   "execution_count": 15,
   "id": "9a68b421-b9ef-43d8-9fde-88cc63f1baf4",
   "metadata": {},
   "outputs": [
    {
     "data": {
      "text/plain": [
       "0                                      {'objects': {}}\n",
       "1    {'objects': {'kitchen': ['small'], 'appliances...\n",
       "2         {'objects': {'kitchen': ['clean', 'ready']}}\n",
       "Name: text, dtype: object"
      ]
     },
     "execution_count": 15,
     "metadata": {},
     "output_type": "execute_result"
    }
   ],
   "source": [
    "pred[:3]"
   ]
  },
  {
   "cell_type": "code",
   "execution_count": 16,
   "id": "b9047bd5-0470-4f68-a146-77b8d7244489",
   "metadata": {},
   "outputs": [
    {
     "data": {
      "text/plain": [
       "0    {\"objects\": {\"Man\": [], \"apron\": [], \"front\": ...\n",
       "1    {\"objects\": {\"kitchen\": [\"small\"], \"appliances...\n",
       "2                         {\"objects\": {\"kitchen\": []}}\n",
       "Name: target_spacy, dtype: object"
      ]
     },
     "execution_count": 16,
     "metadata": {},
     "output_type": "execute_result"
    }
   ],
   "source": [
    "val[\"target_spacy\"][:3]"
   ]
  },
  {
   "cell_type": "markdown",
   "id": "9ace4d4c-33ba-462b-b37c-babc6e968bdd",
   "metadata": {},
   "source": [
    "### BERT extractor: first attention layer"
   ]
  },
  {
   "cell_type": "code",
   "execution_count": 10,
   "id": "240df06c-f6a4-4239-81a3-900b86569bb6",
   "metadata": {},
   "outputs": [
    {
     "name": "stderr",
     "output_type": "stream",
     "text": [
      "Some weights of the model checkpoint at google-bert/bert-base-uncased were not used when initializing BertForMaskedLM: ['bert.pooler.dense.bias', 'bert.pooler.dense.weight', 'cls.seq_relationship.bias', 'cls.seq_relationship.weight']\n",
      "- This IS expected if you are initializing BertForMaskedLM from the checkpoint of a model trained on another task or with another architecture (e.g. initializing a BertForSequenceClassification model from a BertForPreTraining model).\n",
      "- This IS NOT expected if you are initializing BertForMaskedLM from the checkpoint of a model that you expect to be exactly identical (initializing a BertForSequenceClassification model from a BertForSequenceClassification model).\n"
     ]
    }
   ],
   "source": [
    "config = BertExtractorSettings(process_attentions=\"get_first\")\n",
    "extractor = BertExtractor(config)"
   ]
  },
  {
   "cell_type": "code",
   "execution_count": 11,
   "id": "806f7c35-22ed-4494-9639-c9e3ec17c3ee",
   "metadata": {},
   "outputs": [
    {
     "name": "stdout",
     "output_type": "stream",
     "text": [
      "metric=0.995\n",
      "metric_with_penalty=0.991\n"
     ]
    }
   ],
   "source": [
    "pred = val[\"text\"].apply(extractor.extract)\n",
    "target = val[\"target_spacy\"].apply(json.loads)\n",
    "\n",
    "metric = mean_rouge_like_metric(pred_col=pred, target_col=target)\n",
    "print(f\"{metric=:.3f}\")\n",
    "\n",
    "metric_with_penalty = mean_rouge_like_metric(pred_col=pred, target_col=target, penalty=True)\n",
    "print(f\"{metric_with_penalty=:.3f}\")"
   ]
  },
  {
   "cell_type": "code",
   "execution_count": 13,
   "id": "df87cee5-bbce-434b-9c44-d6bbfed32932",
   "metadata": {},
   "outputs": [
    {
     "data": {
      "text/plain": [
       "0    {'objects': {'apron': [], 'front': [], 'man': ...\n",
       "1    {'objects': {'kitchen': ['small'], 'appliances...\n",
       "2         {'objects': {'kitchen': ['clean', 'ready']}}\n",
       "Name: text, dtype: object"
      ]
     },
     "execution_count": 13,
     "metadata": {},
     "output_type": "execute_result"
    }
   ],
   "source": [
    "pred[:3]"
   ]
  },
  {
   "cell_type": "code",
   "execution_count": null,
   "id": "6e7233d4-9cc9-49fe-b088-cd3c3f608780",
   "metadata": {},
   "outputs": [],
   "source": []
  }
 ],
 "metadata": {
  "kernelspec": {
   "display_name": "poetry_env",
   "language": "python",
   "name": "poetry_env"
  },
  "language_info": {
   "codemirror_mode": {
    "name": "ipython",
    "version": 3
   },
   "file_extension": ".py",
   "mimetype": "text/x-python",
   "name": "python",
   "nbconvert_exporter": "python",
   "pygments_lexer": "ipython3",
   "version": "3.12.2"
  }
 },
 "nbformat": 4,
 "nbformat_minor": 5
}
