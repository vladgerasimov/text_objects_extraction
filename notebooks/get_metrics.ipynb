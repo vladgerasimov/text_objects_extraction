{
 "cells": [
  {
   "cell_type": "code",
   "execution_count": 1,
   "id": "c2b7d0e6-4e9d-4211-958d-812a8ae442a8",
   "metadata": {
    "is_executing": true
   },
   "outputs": [],
   "source": [
    "import sys\n",
    "import os\n",
    "import json\n",
    "from pathlib import Path\n",
    "\n",
    "import pandas as pd"
   ]
  },
  {
   "cell_type": "code",
   "execution_count": 2,
   "id": "b8a8af3a-0b81-436a-bf15-f90016f9e706",
   "metadata": {},
   "outputs": [],
   "source": [
    "root_dir = Path.cwd().parent"
   ]
  },
  {
   "cell_type": "code",
   "execution_count": 3,
   "id": "b774c5a6-6f45-40be-906c-7c5b56176387",
   "metadata": {},
   "outputs": [],
   "source": [
    "sys.path.append(str(root_dir))"
   ]
  },
  {
   "cell_type": "code",
   "execution_count": 4,
   "id": "6f38d66a-8ffa-4470-9eb6-d246ee344a6d",
   "metadata": {},
   "outputs": [
    {
     "name": "stderr",
     "output_type": "stream",
     "text": [
      "/Users/user/anaconda3/envs/poetry_env/lib/python3.12/site-packages/tqdm/auto.py:21: TqdmWarning: IProgress not found. Please update jupyter and ipywidgets. See https://ipywidgets.readthedocs.io/en/stable/user_install.html\n",
      "  from .autonotebook import tqdm as notebook_tqdm\n"
     ]
    }
   ],
   "source": [
    "from src.extractor.pos_extractor import PosExtractor\n",
    "from src.metrics.rouge_like import mean_rouge_like_metric"
   ]
  },
  {
   "cell_type": "code",
   "execution_count": 5,
   "id": "fff9dbaf-0ae5-4c1f-92fb-c346e95c9563",
   "metadata": {},
   "outputs": [
    {
     "data": {
      "text/html": [
       "<div>\n",
       "<style scoped>\n",
       "    .dataframe tbody tr th:only-of-type {\n",
       "        vertical-align: middle;\n",
       "    }\n",
       "\n",
       "    .dataframe tbody tr th {\n",
       "        vertical-align: top;\n",
       "    }\n",
       "\n",
       "    .dataframe thead th {\n",
       "        text-align: right;\n",
       "    }\n",
       "</style>\n",
       "<table border=\"1\" class=\"dataframe\">\n",
       "  <thead>\n",
       "    <tr style=\"text-align: right;\">\n",
       "      <th></th>\n",
       "      <th>text</th>\n",
       "      <th>target_spacy</th>\n",
       "      <th>target_gpt_3.5</th>\n",
       "    </tr>\n",
       "  </thead>\n",
       "  <tbody>\n",
       "    <tr>\n",
       "      <th>0</th>\n",
       "      <td>Man in apron standing on front of oven with pa...</td>\n",
       "      <td>{\"objects\": {\"Man\": [], \"apron\": [], \"front\": ...</td>\n",
       "      <td>{\"objects\": {\"man\": [\"apron\"], \"oven\": [], \"pa...</td>\n",
       "    </tr>\n",
       "    <tr>\n",
       "      <th>1</th>\n",
       "      <td>A small kitchen has various appliances and a t...</td>\n",
       "      <td>{\"objects\": {\"kitchen\": [\"small\"], \"appliances...</td>\n",
       "      <td>{\"objects\": {\"kitchen\": [\"small\"], \"appliances...</td>\n",
       "    </tr>\n",
       "    <tr>\n",
       "      <th>2</th>\n",
       "      <td>The kitchen is clean and ready for us to see.</td>\n",
       "      <td>{\"objects\": {\"kitchen\": []}}</td>\n",
       "      <td>{\"objects\": {\"kitchen\": [\"clean\"], \"us\": []}}</td>\n",
       "    </tr>\n",
       "    <tr>\n",
       "      <th>3</th>\n",
       "      <td>a homeless man holding a cup and standing next...</td>\n",
       "      <td>{\"objects\": {\"man\": [\"homeless\"], \"cup\": [], \"...</td>\n",
       "      <td>{\"objects\": {\"man\": [\"homeless\"], \"cup\": [], \"...</td>\n",
       "    </tr>\n",
       "    <tr>\n",
       "      <th>4</th>\n",
       "      <td>a blue bike parked on a side walk</td>\n",
       "      <td>{\"objects\": {\"bike\": [\"blue\"], \"side\": [], \"wa...</td>\n",
       "      <td>{\"objects\": {\"bike\": [\"blue\"], \"side walk\": []}}</td>\n",
       "    </tr>\n",
       "  </tbody>\n",
       "</table>\n",
       "</div>"
      ],
      "text/plain": [
       "                                                text  \\\n",
       "0  Man in apron standing on front of oven with pa...   \n",
       "1  A small kitchen has various appliances and a t...   \n",
       "2      The kitchen is clean and ready for us to see.   \n",
       "3  a homeless man holding a cup and standing next...   \n",
       "4                 a blue bike parked on a side walk    \n",
       "\n",
       "                                        target_spacy  \\\n",
       "0  {\"objects\": {\"Man\": [], \"apron\": [], \"front\": ...   \n",
       "1  {\"objects\": {\"kitchen\": [\"small\"], \"appliances...   \n",
       "2                       {\"objects\": {\"kitchen\": []}}   \n",
       "3  {\"objects\": {\"man\": [\"homeless\"], \"cup\": [], \"...   \n",
       "4  {\"objects\": {\"bike\": [\"blue\"], \"side\": [], \"wa...   \n",
       "\n",
       "                                      target_gpt_3.5  \n",
       "0  {\"objects\": {\"man\": [\"apron\"], \"oven\": [], \"pa...  \n",
       "1  {\"objects\": {\"kitchen\": [\"small\"], \"appliances...  \n",
       "2      {\"objects\": {\"kitchen\": [\"clean\"], \"us\": []}}  \n",
       "3  {\"objects\": {\"man\": [\"homeless\"], \"cup\": [], \"...  \n",
       "4   {\"objects\": {\"bike\": [\"blue\"], \"side walk\": []}}  "
      ]
     },
     "execution_count": 5,
     "metadata": {},
     "output_type": "execute_result"
    }
   ],
   "source": [
    "val = pd.read_csv(root_dir / \"data\" / \"val.csv\")\n",
    "val.head()"
   ]
  },
  {
   "cell_type": "code",
   "execution_count": 48,
   "id": "90c574f2-5bb2-428d-9cb1-9d2e2aaf8f04",
   "metadata": {},
   "outputs": [],
   "source": [
    "gpt_4o_target = pd.read_csv(root_dir/ \"data\" / \"labels_val_gpt_4o.csv\", sep=\"~\")"
   ]
  },
  {
   "cell_type": "code",
   "execution_count": 50,
   "id": "6b2a379f-963c-4e30-8d41-3206d40e231b",
   "metadata": {},
   "outputs": [],
   "source": [
    "val = val.merge(gpt_4o_target, on=\"text\", how=\"left\")"
   ]
  },
  {
   "cell_type": "code",
   "execution_count": 62,
   "id": "2fbf62fa-c283-41d7-bae0-474c6ad702ea",
   "metadata": {},
   "outputs": [
    {
     "data": {
      "text/html": [
       "<div>\n",
       "<style scoped>\n",
       "    .dataframe tbody tr th:only-of-type {\n",
       "        vertical-align: middle;\n",
       "    }\n",
       "\n",
       "    .dataframe tbody tr th {\n",
       "        vertical-align: top;\n",
       "    }\n",
       "\n",
       "    .dataframe thead th {\n",
       "        text-align: right;\n",
       "    }\n",
       "</style>\n",
       "<table border=\"1\" class=\"dataframe\">\n",
       "  <thead>\n",
       "    <tr style=\"text-align: right;\">\n",
       "      <th></th>\n",
       "      <th>text</th>\n",
       "      <th>target_spacy</th>\n",
       "      <th>target_gpt_3.5</th>\n",
       "      <th>target_gpt_4o</th>\n",
       "    </tr>\n",
       "  </thead>\n",
       "  <tbody>\n",
       "    <tr>\n",
       "      <th>0</th>\n",
       "      <td>Man in apron standing on front of oven with pa...</td>\n",
       "      <td>{\"objects\": {\"Man\": [], \"apron\": [], \"front\": ...</td>\n",
       "      <td>{\"objects\": {\"man\": [\"apron\"], \"oven\": [], \"pa...</td>\n",
       "      <td>{\"objects\": {\"man\": [], \"apron\": [], \"oven\": [...</td>\n",
       "    </tr>\n",
       "    <tr>\n",
       "      <th>1</th>\n",
       "      <td>A small kitchen has various appliances and a t...</td>\n",
       "      <td>{\"objects\": {\"kitchen\": [\"small\"], \"appliances...</td>\n",
       "      <td>{\"objects\": {\"kitchen\": [\"small\"], \"appliances...</td>\n",
       "      <td>{\"objects\": {\"kitchen\": [\"small\"], \"appliances...</td>\n",
       "    </tr>\n",
       "    <tr>\n",
       "      <th>2</th>\n",
       "      <td>The kitchen is clean and ready for us to see.</td>\n",
       "      <td>{\"objects\": {\"kitchen\": []}}</td>\n",
       "      <td>{\"objects\": {\"kitchen\": [\"clean\"], \"us\": []}}</td>\n",
       "      <td>{\"objects\": {\"kitchen\": [\"clean\"]}}</td>\n",
       "    </tr>\n",
       "    <tr>\n",
       "      <th>3</th>\n",
       "      <td>a homeless man holding a cup and standing next...</td>\n",
       "      <td>{\"objects\": {\"man\": [\"homeless\"], \"cup\": [], \"...</td>\n",
       "      <td>{\"objects\": {\"man\": [\"homeless\"], \"cup\": [], \"...</td>\n",
       "      <td>{\"objects\": {\"man\": [\"homeless\"], \"cup\": [], \"...</td>\n",
       "    </tr>\n",
       "    <tr>\n",
       "      <th>4</th>\n",
       "      <td>a blue bike parked on a side walk</td>\n",
       "      <td>{\"objects\": {\"bike\": [\"blue\"], \"side\": [], \"wa...</td>\n",
       "      <td>{\"objects\": {\"bike\": [\"blue\"], \"side walk\": []}}</td>\n",
       "      <td>NaN</td>\n",
       "    </tr>\n",
       "  </tbody>\n",
       "</table>\n",
       "</div>"
      ],
      "text/plain": [
       "                                                text  \\\n",
       "0  Man in apron standing on front of oven with pa...   \n",
       "1  A small kitchen has various appliances and a t...   \n",
       "2      The kitchen is clean and ready for us to see.   \n",
       "3  a homeless man holding a cup and standing next...   \n",
       "4                 a blue bike parked on a side walk    \n",
       "\n",
       "                                        target_spacy  \\\n",
       "0  {\"objects\": {\"Man\": [], \"apron\": [], \"front\": ...   \n",
       "1  {\"objects\": {\"kitchen\": [\"small\"], \"appliances...   \n",
       "2                       {\"objects\": {\"kitchen\": []}}   \n",
       "3  {\"objects\": {\"man\": [\"homeless\"], \"cup\": [], \"...   \n",
       "4  {\"objects\": {\"bike\": [\"blue\"], \"side\": [], \"wa...   \n",
       "\n",
       "                                      target_gpt_3.5  \\\n",
       "0  {\"objects\": {\"man\": [\"apron\"], \"oven\": [], \"pa...   \n",
       "1  {\"objects\": {\"kitchen\": [\"small\"], \"appliances...   \n",
       "2      {\"objects\": {\"kitchen\": [\"clean\"], \"us\": []}}   \n",
       "3  {\"objects\": {\"man\": [\"homeless\"], \"cup\": [], \"...   \n",
       "4   {\"objects\": {\"bike\": [\"blue\"], \"side walk\": []}}   \n",
       "\n",
       "                                       target_gpt_4o  \n",
       "0  {\"objects\": {\"man\": [], \"apron\": [], \"oven\": [...  \n",
       "1  {\"objects\": {\"kitchen\": [\"small\"], \"appliances...  \n",
       "2                {\"objects\": {\"kitchen\": [\"clean\"]}}  \n",
       "3  {\"objects\": {\"man\": [\"homeless\"], \"cup\": [], \"...  \n",
       "4                                                NaN  "
      ]
     },
     "execution_count": 62,
     "metadata": {},
     "output_type": "execute_result"
    }
   ],
   "source": [
    "val.head()"
   ]
  },
  {
   "cell_type": "markdown",
   "id": "c82be48e-c102-4d55-ad36-c17ad593aa83",
   "metadata": {},
   "source": [
    "### POS extractor:"
   ]
  },
  {
   "cell_type": "markdown",
   "id": "2a84d34c-1ddc-4040-bae9-9da03c241fad",
   "metadata": {},
   "source": [
    "#### spacy target:"
   ]
  },
  {
   "cell_type": "code",
   "execution_count": 6,
   "id": "baa90e44-a995-4666-b98f-56b3d22aed9c",
   "metadata": {},
   "outputs": [
    {
     "data": {
      "text/html": [
       "<div>\n",
       "<style scoped>\n",
       "    .dataframe tbody tr th:only-of-type {\n",
       "        vertical-align: middle;\n",
       "    }\n",
       "\n",
       "    .dataframe tbody tr th {\n",
       "        vertical-align: top;\n",
       "    }\n",
       "\n",
       "    .dataframe thead th {\n",
       "        text-align: right;\n",
       "    }\n",
       "</style>\n",
       "<table border=\"1\" class=\"dataframe\">\n",
       "  <thead>\n",
       "    <tr style=\"text-align: right;\">\n",
       "      <th></th>\n",
       "      <th>text</th>\n",
       "      <th>target_spacy</th>\n",
       "      <th>target_gpt_3.5</th>\n",
       "      <th>pos_pred</th>\n",
       "    </tr>\n",
       "  </thead>\n",
       "  <tbody>\n",
       "    <tr>\n",
       "      <th>0</th>\n",
       "      <td>Man in apron standing on front of oven with pa...</td>\n",
       "      <td>{\"objects\": {\"Man\": [], \"apron\": [], \"front\": ...</td>\n",
       "      <td>{\"objects\": {\"man\": [\"apron\"], \"oven\": [], \"pa...</td>\n",
       "      <td>{'objects': {'man': [], 'front': [], 'pans': [...</td>\n",
       "    </tr>\n",
       "    <tr>\n",
       "      <th>1</th>\n",
       "      <td>A small kitchen has various appliances and a t...</td>\n",
       "      <td>{\"objects\": {\"kitchen\": [\"small\"], \"appliances...</td>\n",
       "      <td>{\"objects\": {\"kitchen\": [\"small\"], \"appliances...</td>\n",
       "      <td>{'objects': {'table': [], 'kitchen': ['small']...</td>\n",
       "    </tr>\n",
       "    <tr>\n",
       "      <th>2</th>\n",
       "      <td>The kitchen is clean and ready for us to see.</td>\n",
       "      <td>{\"objects\": {\"kitchen\": []}}</td>\n",
       "      <td>{\"objects\": {\"kitchen\": [\"clean\"], \"us\": []}}</td>\n",
       "      <td>{'objects': {'kitchen': ['clean', 'ready']}}</td>\n",
       "    </tr>\n",
       "    <tr>\n",
       "      <th>3</th>\n",
       "      <td>a homeless man holding a cup and standing next...</td>\n",
       "      <td>{\"objects\": {\"man\": [\"homeless\"], \"cup\": [], \"...</td>\n",
       "      <td>{\"objects\": {\"man\": [\"homeless\"], \"cup\": [], \"...</td>\n",
       "      <td>{'objects': {'cup': [], 'shopping': [], 'cart'...</td>\n",
       "    </tr>\n",
       "    <tr>\n",
       "      <th>4</th>\n",
       "      <td>a blue bike parked on a side walk</td>\n",
       "      <td>{\"objects\": {\"bike\": [\"blue\"], \"side\": [], \"wa...</td>\n",
       "      <td>{\"objects\": {\"bike\": [\"blue\"], \"side walk\": []}}</td>\n",
       "      <td>{'objects': {'side': [], 'walk': [], 'bike': [...</td>\n",
       "    </tr>\n",
       "  </tbody>\n",
       "</table>\n",
       "</div>"
      ],
      "text/plain": [
       "                                                text  \\\n",
       "0  Man in apron standing on front of oven with pa...   \n",
       "1  A small kitchen has various appliances and a t...   \n",
       "2      The kitchen is clean and ready for us to see.   \n",
       "3  a homeless man holding a cup and standing next...   \n",
       "4                 a blue bike parked on a side walk    \n",
       "\n",
       "                                        target_spacy  \\\n",
       "0  {\"objects\": {\"Man\": [], \"apron\": [], \"front\": ...   \n",
       "1  {\"objects\": {\"kitchen\": [\"small\"], \"appliances...   \n",
       "2                       {\"objects\": {\"kitchen\": []}}   \n",
       "3  {\"objects\": {\"man\": [\"homeless\"], \"cup\": [], \"...   \n",
       "4  {\"objects\": {\"bike\": [\"blue\"], \"side\": [], \"wa...   \n",
       "\n",
       "                                      target_gpt_3.5  \\\n",
       "0  {\"objects\": {\"man\": [\"apron\"], \"oven\": [], \"pa...   \n",
       "1  {\"objects\": {\"kitchen\": [\"small\"], \"appliances...   \n",
       "2      {\"objects\": {\"kitchen\": [\"clean\"], \"us\": []}}   \n",
       "3  {\"objects\": {\"man\": [\"homeless\"], \"cup\": [], \"...   \n",
       "4   {\"objects\": {\"bike\": [\"blue\"], \"side walk\": []}}   \n",
       "\n",
       "                                            pos_pred  \n",
       "0  {'objects': {'man': [], 'front': [], 'pans': [...  \n",
       "1  {'objects': {'table': [], 'kitchen': ['small']...  \n",
       "2       {'objects': {'kitchen': ['clean', 'ready']}}  \n",
       "3  {'objects': {'cup': [], 'shopping': [], 'cart'...  \n",
       "4  {'objects': {'side': [], 'walk': [], 'bike': [...  "
      ]
     },
     "execution_count": 6,
     "metadata": {},
     "output_type": "execute_result"
    }
   ],
   "source": [
    "extractor = PosExtractor()\n",
    "val[\"pos_pred\"] = val[\"text\"].apply(extractor.extract)\n",
    "val.head()"
   ]
  },
  {
   "cell_type": "code",
   "execution_count": 10,
   "id": "973e37df-dcba-4739-89cd-1370818131a1",
   "metadata": {},
   "outputs": [
    {
     "name": "stdout",
     "output_type": "stream",
     "text": [
      "metric=0.932\n",
      "metric_with_penalty=0.930\n"
     ]
    }
   ],
   "source": [
    "pred = val[\"pos_pred\"]\n",
    "target = val[\"target_spacy\"].apply(json.loads)\n",
    "\n",
    "metric = mean_rouge_like_metric(pred_col=pred, target_col=target)\n",
    "print(f\"{metric=:.3f}\")\n",
    "\n",
    "metric_with_penalty = mean_rouge_like_metric(pred_col=pred, target_col=target, penalty=True)\n",
    "print(f\"{metric_with_penalty=:.3f}\")"
   ]
  },
  {
   "cell_type": "markdown",
   "id": "eed896db-a008-4001-9deb-b874a6fe27ce",
   "metadata": {},
   "source": [
    "#### gpt-3.5 target"
   ]
  },
  {
   "cell_type": "code",
   "execution_count": 22,
   "id": "c6c8fc7a-82ab-4885-aea7-b1289f384814",
   "metadata": {},
   "outputs": [
    {
     "name": "stdout",
     "output_type": "stream",
     "text": [
      "12697\n",
      "12694\n"
     ]
    }
   ],
   "source": [
    "print(len(val))\n",
    "val = val[val[\"target_gpt_3.5\"].apply(json.loads) != {\"objects\": {}}]\n",
    "print(len(val))"
   ]
  },
  {
   "cell_type": "code",
   "execution_count": 23,
   "id": "aac7fb97-c8be-4084-880d-5912b7b135d1",
   "metadata": {},
   "outputs": [
    {
     "name": "stdout",
     "output_type": "stream",
     "text": [
      "metric=0.687\n",
      "metric_with_penalty=0.108\n"
     ]
    }
   ],
   "source": [
    "pred = val[\"pos_pred\"]\n",
    "target = val[\"target_gpt_3.5\"].apply(json.loads)\n",
    "\n",
    "metric = mean_rouge_like_metric(pred_col=pred, target_col=target)\n",
    "print(f\"{metric=:.3f}\")\n",
    "\n",
    "metric_with_penalty = mean_rouge_like_metric(pred_col=pred, target_col=target, penalty=True)\n",
    "print(f\"{metric_with_penalty=:.3f}\")"
   ]
  },
  {
   "cell_type": "markdown",
   "id": "753e1be9-f87d-4946-a656-81b6d7778261",
   "metadata": {},
   "source": [
    "#### gpt-4o target"
   ]
  },
  {
   "cell_type": "code",
   "execution_count": 55,
   "id": "7022da41-8c22-42c5-9828-969babd303f8",
   "metadata": {},
   "outputs": [
    {
     "name": "stdout",
     "output_type": "stream",
     "text": [
      "metric=0.850\n",
      "metric_with_penalty=0.521\n"
     ]
    }
   ],
   "source": [
    "extractor = PosExtractor()\n",
    "pred = val.loc[val[\"target_gpt_4o\"].notna(), \"text\"].apply(extractor.extract)\n",
    "target = val.loc[val[\"target_gpt_4o\"].notna(), \"target_gpt_4o\"].apply(json.loads)\n",
    "\n",
    "metric = mean_rouge_like_metric(pred_col=pred, target_col=target)\n",
    "print(f\"{metric=:.3f}\")\n",
    "\n",
    "metric_with_penalty = mean_rouge_like_metric(pred_col=pred, target_col=target, penalty=True)\n",
    "print(f\"{metric_with_penalty=:.3f}\")"
   ]
  },
  {
   "cell_type": "markdown",
   "id": "0ccfb452-6b52-4c34-b24f-39dcd92f48b3",
   "metadata": {},
   "source": [
    "### BERT extractor: average first 6 attention layers"
   ]
  },
  {
   "cell_type": "markdown",
   "id": "51fc5354-8ac9-4354-b975-b8f382aed955",
   "metadata": {},
   "source": [
    "#### spacy target:"
   ]
  },
  {
   "cell_type": "code",
   "execution_count": 56,
   "id": "e3266a9f-7674-4ab0-9d5a-331c27012382",
   "metadata": {},
   "outputs": [],
   "source": [
    "from src.extractor import BertExtractor\n",
    "from src.core.settings import BertExtractorSettings"
   ]
  },
  {
   "cell_type": "code",
   "execution_count": 57,
   "id": "370d126c-9ddf-4de0-b640-1404316207e1",
   "metadata": {},
   "outputs": [
    {
     "name": "stderr",
     "output_type": "stream",
     "text": [
      "/Users/user/anaconda3/envs/poetry_env/lib/python3.12/site-packages/huggingface_hub/file_download.py:1132: FutureWarning: `resume_download` is deprecated and will be removed in version 1.0.0. Downloads always resume when possible. If you want to force a new download, use `force_download=True`.\n",
      "  warnings.warn(\n",
      "Some weights of the model checkpoint at google-bert/bert-base-uncased were not used when initializing BertForMaskedLM: ['bert.pooler.dense.bias', 'bert.pooler.dense.weight', 'cls.seq_relationship.bias', 'cls.seq_relationship.weight']\n",
      "- This IS expected if you are initializing BertForMaskedLM from the checkpoint of a model trained on another task or with another architecture (e.g. initializing a BertForSequenceClassification model from a BertForPreTraining model).\n",
      "- This IS NOT expected if you are initializing BertForMaskedLM from the checkpoint of a model that you expect to be exactly identical (initializing a BertForSequenceClassification model from a BertForSequenceClassification model).\n"
     ]
    },
    {
     "data": {
      "text/plain": [
       "BertExtractorSettings(pretrained_model_name='google-bert/bert-base-uncased', process_attentions=<ProcessAttentions.get_all_mean: 'get_all_mean'>, n_blocks_to_average=6)"
      ]
     },
     "execution_count": 57,
     "metadata": {},
     "output_type": "execute_result"
    }
   ],
   "source": [
    "extractor = BertExtractor(BertExtractorSettings.from_yaml(root_dir / \"configs\" / \"bert_extractor_settings.yaml\"))\n",
    "extractor.config"
   ]
  },
  {
   "cell_type": "code",
   "execution_count": 93,
   "id": "cf01405a-0ab1-4937-9f3c-5f51c3416f96",
   "metadata": {},
   "outputs": [
    {
     "name": "stdout",
     "output_type": "stream",
     "text": [
      "metric=0.995\n",
      "metric_with_penalty=0.991\n"
     ]
    }
   ],
   "source": [
    "pred = val[\"text\"].apply(extractor.extract)\n",
    "target = val[\"target_spacy\"].apply(json.loads)\n",
    "\n",
    "metric = mean_rouge_like_metric(pred_col=pred, target_col=target)\n",
    "print(f\"{metric=:.3f}\")\n",
    "\n",
    "metric_with_penalty = mean_rouge_like_metric(pred_col=pred, target_col=target, penalty=True)\n",
    "print(f\"{metric_with_penalty=:.3f}\")"
   ]
  },
  {
   "cell_type": "code",
   "execution_count": 97,
   "id": "124e9b09-c199-46c9-95f7-d2e9f627103e",
   "metadata": {},
   "outputs": [
    {
     "data": {
      "text/plain": [
       "'Man in apron standing on front of oven with pans and bakeware'"
      ]
     },
     "execution_count": 97,
     "metadata": {},
     "output_type": "execute_result"
    }
   ],
   "source": [
    "val.loc[0, \"text\"]"
   ]
  },
  {
   "cell_type": "code",
   "execution_count": 98,
   "id": "2048450a-2062-4550-9126-8b2c4bd226e5",
   "metadata": {},
   "outputs": [
    {
     "data": {
      "text/plain": [
       "{'objects': {'bakeware': [],\n",
       "  'pans': [],\n",
       "  'front': [],\n",
       "  'man': [],\n",
       "  'apron': [],\n",
       "  'oven': []}}"
      ]
     },
     "execution_count": 98,
     "metadata": {},
     "output_type": "execute_result"
    }
   ],
   "source": [
    "pred[0]"
   ]
  },
  {
   "cell_type": "code",
   "execution_count": null,
   "id": "8cbedccc-c512-4168-8e0a-8070bbcfa8f0",
   "metadata": {},
   "outputs": [],
   "source": []
  },
  {
   "cell_type": "code",
   "execution_count": 99,
   "id": "3120cede-bbf6-4f25-8f19-5b65dde5c547",
   "metadata": {},
   "outputs": [
    {
     "data": {
      "text/plain": [
       "{'objects': {'man': ['apron'], 'oven': [], 'pans': [], 'bakeware': []}}"
      ]
     },
     "execution_count": 99,
     "metadata": {},
     "output_type": "execute_result"
    }
   ],
   "source": [
    "val[\"target_gpt_3.5\"].apply(json.loads)[0]"
   ]
  },
  {
   "cell_type": "markdown",
   "id": "bf080bcf-b1c7-4401-92dd-06313ef08411",
   "metadata": {},
   "source": [
    "#### gpt-3.5 target"
   ]
  },
  {
   "cell_type": "code",
   "execution_count": 9,
   "id": "c5c070b9-ed64-4d4f-b249-520c335174b7",
   "metadata": {},
   "outputs": [
    {
     "name": "stdout",
     "output_type": "stream",
     "text": [
      "metric=0.227\n",
      "metric_with_penalty=-0.965\n"
     ]
    }
   ],
   "source": [
    "val = val[val[\"target_gpt_3.5\"].apply(json.loads) != {\"objects\": {}}]\n",
    "\n",
    "target = val[\"target_gpt_3.5\"].apply(json.loads)\n",
    "\n",
    "metric = mean_rouge_like_metric(pred_col=pred, target_col=target)\n",
    "print(f\"{metric=:.3f}\")\n",
    "\n",
    "metric_with_penalty = mean_rouge_like_metric(pred_col=pred, target_col=target, penalty=True)\n",
    "print(f\"{metric_with_penalty=:.3f}\")"
   ]
  },
  {
   "cell_type": "markdown",
   "id": "d0e63522-b63a-4e55-a60a-bf1ed729a6c1",
   "metadata": {},
   "source": [
    "#### gpt-4o target"
   ]
  },
  {
   "cell_type": "code",
   "execution_count": 58,
   "id": "28f38231-78e1-4186-9090-1ba1d3464b40",
   "metadata": {},
   "outputs": [
    {
     "name": "stdout",
     "output_type": "stream",
     "text": [
      "metric=0.911\n",
      "metric_with_penalty=0.544\n"
     ]
    }
   ],
   "source": [
    "pred = val.loc[val[\"target_gpt_4o\"].notna(), \"text\"].apply(extractor.extract)\n",
    "target = val.loc[val[\"target_gpt_4o\"].notna(), \"target_gpt_4o\"].apply(json.loads)\n",
    "\n",
    "metric = mean_rouge_like_metric(pred_col=pred, target_col=target)\n",
    "print(f\"{metric=:.3f}\")\n",
    "\n",
    "metric_with_penalty = mean_rouge_like_metric(pred_col=pred, target_col=target, penalty=True)\n",
    "print(f\"{metric_with_penalty=:.3f}\")"
   ]
  },
  {
   "cell_type": "markdown",
   "id": "9ace4d4c-33ba-462b-b37c-babc6e968bdd",
   "metadata": {},
   "source": [
    "### BERT extractor: first attention layer"
   ]
  },
  {
   "cell_type": "code",
   "execution_count": 60,
   "id": "240df06c-f6a4-4239-81a3-900b86569bb6",
   "metadata": {},
   "outputs": [
    {
     "name": "stderr",
     "output_type": "stream",
     "text": [
      "Some weights of the model checkpoint at google-bert/bert-base-uncased were not used when initializing BertForMaskedLM: ['bert.pooler.dense.bias', 'bert.pooler.dense.weight', 'cls.seq_relationship.bias', 'cls.seq_relationship.weight']\n",
      "- This IS expected if you are initializing BertForMaskedLM from the checkpoint of a model trained on another task or with another architecture (e.g. initializing a BertForSequenceClassification model from a BertForPreTraining model).\n",
      "- This IS NOT expected if you are initializing BertForMaskedLM from the checkpoint of a model that you expect to be exactly identical (initializing a BertForSequenceClassification model from a BertForSequenceClassification model).\n"
     ]
    }
   ],
   "source": [
    "config = BertExtractorSettings(process_attentions=\"get_first\")\n",
    "extractor = BertExtractor(config)"
   ]
  },
  {
   "cell_type": "code",
   "execution_count": 11,
   "id": "806f7c35-22ed-4494-9639-c9e3ec17c3ee",
   "metadata": {},
   "outputs": [
    {
     "name": "stdout",
     "output_type": "stream",
     "text": [
      "metric=0.995\n",
      "metric_with_penalty=0.991\n"
     ]
    }
   ],
   "source": [
    "pred = val[\"text\"].apply(extractor.extract)\n",
    "target = val[\"target_spacy\"].apply(json.loads)\n",
    "\n",
    "metric = mean_rouge_like_metric(pred_col=pred, target_col=target)\n",
    "print(f\"{metric=:.3f}\")\n",
    "\n",
    "metric_with_penalty = mean_rouge_like_metric(pred_col=pred, target_col=target, penalty=True)\n",
    "print(f\"{metric_with_penalty=:.3f}\")"
   ]
  },
  {
   "cell_type": "markdown",
   "id": "82c427ce-a673-43d3-a925-9dfededa85c6",
   "metadata": {},
   "source": [
    "#### gpt-4o target"
   ]
  },
  {
   "cell_type": "code",
   "execution_count": 61,
   "id": "6fee9d1d-3fb6-41e6-b8b3-07c72e63afbc",
   "metadata": {},
   "outputs": [
    {
     "name": "stdout",
     "output_type": "stream",
     "text": [
      "metric=0.911\n",
      "metric_with_penalty=0.545\n"
     ]
    }
   ],
   "source": [
    "pred = val.loc[val[\"target_gpt_4o\"].notna(), \"text\"].apply(extractor.extract)\n",
    "target = val.loc[val[\"target_gpt_4o\"].notna(), \"target_gpt_4o\"].apply(json.loads)\n",
    "\n",
    "metric = mean_rouge_like_metric(pred_col=pred, target_col=target)\n",
    "print(f\"{metric=:.3f}\")\n",
    "\n",
    "metric_with_penalty = mean_rouge_like_metric(pred_col=pred, target_col=target, penalty=True)\n",
    "print(f\"{metric_with_penalty=:.3f}\")"
   ]
  },
  {
   "cell_type": "markdown",
   "id": "fec7394a-a600-44e3-a022-8df3e63a5d7d",
   "metadata": {},
   "source": [
    "### Bert Extractor: attentions visualization"
   ]
  },
  {
   "cell_type": "code",
   "execution_count": 72,
   "id": "8743b99f-32a1-4939-8f60-209950b8068c",
   "metadata": {},
   "outputs": [],
   "source": [
    "import seaborn as sns\n",
    "import matplotlib.pyplot as plt\n",
    "\n",
    "\n",
    "def dict_to_df(attentions_dict: dict[str, float]) -> pd.DataFrame:\n",
    "    return pd.DataFrame(\n",
    "        {\"noun\": attentions_dict.keys(), \"attention_weight\": attentions_dict.values()}\n",
    "    )\n",
    "\n",
    "\n",
    "def visualize_attentions_dict(attentions_dict: dict[str, dict[str, float]], adj: str):\n",
    "    assert adj in attentions_dict, \"adjective not in attentions dict\"\n",
    "    df = dict_to_df(attentions_dict[adj])\n",
    "\n",
    "    bar_plot = sns.barplot(x=\"noun\", y=\"attention_weight\", data=df, palette=\"viridis\", hue=\"noun\")  # 'viridis' is a color palette, you can choose any\n",
    "    plt.title(f\"adjective = {adj}\")\n",
    "    plt.xlabel(\"Noun\")\n",
    "    plt.ylabel(\"Attention weight\")\n",
    "    plt.show()"
   ]
  },
  {
   "cell_type": "code",
   "execution_count": 73,
   "id": "af6460df-6ab0-46ed-96c9-6bea0eceaadf",
   "metadata": {},
   "outputs": [
    {
     "data": {
      "text/plain": [
       "'A small kitchen has various appliances and a table.'"
      ]
     },
     "execution_count": 73,
     "metadata": {},
     "output_type": "execute_result"
    }
   ],
   "source": [
    "text = val.loc[1, \"text\"]\n",
    "text"
   ]
  },
  {
   "cell_type": "code",
   "execution_count": 74,
   "id": "52226f39-9e83-4017-a77a-7d9012faa8e5",
   "metadata": {},
   "outputs": [],
   "source": [
    "attentions_dict = extractor.get_adjectives_attentions(text)"
   ]
  },
  {
   "cell_type": "code",
   "execution_count": 75,
   "id": "8963d741-928c-49a3-855a-bf2f466c6fdb",
   "metadata": {},
   "outputs": [
    {
     "data": {
      "text/plain": [
       "[('kitchen', 0.17516539990901947),\n",
       " ('appliances', 0.12372007220983505),\n",
       " ('table', 0.0816829726099968)]"
      ]
     },
     "execution_count": 75,
     "metadata": {},
     "output_type": "execute_result"
    }
   ],
   "source": [
    "sorted(attentions_dict[\"small\"].items(), key=lambda x: -x[1])"
   ]
  },
  {
   "cell_type": "code",
   "execution_count": 76,
   "id": "c6f3232e-b279-4dca-98f4-f3aed43f0095",
   "metadata": {},
   "outputs": [
    {
     "data": {
      "text/plain": [
       "[('appliances', 0.17663581669330597),\n",
       " ('kitchen', 0.13920210301876068),\n",
       " ('table', 0.06601058691740036)]"
      ]
     },
     "execution_count": 76,
     "metadata": {},
     "output_type": "execute_result"
    }
   ],
   "source": [
    "sorted(attentions_dict[\"various\"].items(), key=lambda x: -x[1])"
   ]
  },
  {
   "cell_type": "markdown",
   "id": "d42b02c8-7edc-4d5a-9ffc-3d9978e53c84",
   "metadata": {},
   "source": [
    "#### avg blocks"
   ]
  },
  {
   "cell_type": "code",
   "execution_count": 63,
   "id": "93156209-22b9-4ae9-a35d-cae90f9fc8f3",
   "metadata": {},
   "outputs": [],
   "source": [
    "text = \"the weather was terrible but we had great time playing video games\"\n",
    "attentions_dict = extractor.get_adjectives_attentions(text)"
   ]
  },
  {
   "cell_type": "code",
   "execution_count": 65,
   "id": "77d8edf2-e7c0-4c1f-882c-f39ddbd9258e",
   "metadata": {},
   "outputs": [
    {
     "data": {
      "image/png": "[encoded data removed]",
      "text/plain": [
       "<Figure size 640x480 with 1 Axes>"
      ]
     },
     "metadata": {},
     "output_type": "display_data"
    }
   ],
   "source": [
    "visualize_attentions_dict(attentions_dict, \"terrible\")"
   ]
  },
  {
   "cell_type": "code",
   "execution_count": 66,
   "id": "2eae74b4-c009-43cc-977b-4fe9dfe013aa",
   "metadata": {},
   "outputs": [
    {
     "data": {
      "image/png": "[encoded data removed]",
      "text/plain": [
       "<Figure size 640x480 with 1 Axes>"
      ]
     },
     "metadata": {},
     "output_type": "display_data"
    }
   ],
   "source": [
    "visualize_attentions_dict(attentions_dict, \"great\")"
   ]
  },
  {
   "cell_type": "markdown",
   "id": "602cb93d-dd73-49c8-84ac-4151bbd10e2f",
   "metadata": {},
   "source": [
    "#### first block"
   ]
  },
  {
   "cell_type": "code",
   "execution_count": 77,
   "id": "4205433c-9c4b-4ae4-9948-37262feedcc2",
   "metadata": {},
   "outputs": [],
   "source": [
    "text = \"the weather was terrible but we had great time playing video games\"\n",
    "attentions_dict = extractor.get_adjectives_attentions(text)"
   ]
  },
  {
   "cell_type": "code",
   "execution_count": 78,
   "id": "5968ffad-bc04-4b11-8ed1-00c4bd065c3a",
   "metadata": {},
   "outputs": [
    {
     "data": {
      "image/png": "[encoded data removed]",
      "text/plain": [
       "<Figure size 640x480 with 1 Axes>"
      ]
     },
     "metadata": {},
     "output_type": "display_data"
    }
   ],
   "source": [
    "visualize_attentions_dict(attentions_dict, \"terrible\")"
   ]
  },
  {
   "cell_type": "code",
   "execution_count": 79,
   "id": "11c3aad9-c00e-4036-96c1-5da8ae76aef0",
   "metadata": {},
   "outputs": [
    {
     "data": {
      "image/png": "[encoded data removed]",
      "text/plain": [
       "<Figure size 640x480 with 1 Axes>"
      ]
     },
     "metadata": {},
     "output_type": "display_data"
    }
   ],
   "source": [
    "visualize_attentions_dict(attentions_dict, \"great\")"
   ]
  },
  {
   "cell_type": "code",
   "execution_count": 83,
   "id": "115b957f-72b2-4f2d-9da7-9873fe569939",
   "metadata": {},
   "outputs": [
    {
     "name": "stderr",
     "output_type": "stream",
     "text": [
      "/Users/user/anaconda3/envs/poetry_env/lib/python3.12/site-packages/huggingface_hub/file_download.py:1132: FutureWarning: `resume_download` is deprecated and will be removed in version 1.0.0. Downloads always resume when possible. If you want to force a new download, use `force_download=True`.\n",
      "  warnings.warn(\n",
      "Some weights of the model checkpoint at google-bert/bert-base-uncased were not used when initializing BertForMaskedLM: ['bert.pooler.dense.bias', 'bert.pooler.dense.weight', 'cls.seq_relationship.bias', 'cls.seq_relationship.weight']\n",
      "- This IS expected if you are initializing BertForMaskedLM from the checkpoint of a model trained on another task or with another architecture (e.g. initializing a BertForSequenceClassification model from a BertForPreTraining model).\n",
      "- This IS NOT expected if you are initializing BertForMaskedLM from the checkpoint of a model that you expect to be exactly identical (initializing a BertForSequenceClassification model from a BertForSequenceClassification model).\n"
     ]
    }
   ],
   "source": [
    "extractor = BertExtractor(BertExtractorSettings.from_yaml(root_dir / \"configs\" / \"bert_extractor_settings.yaml\"))"
   ]
  },
  {
   "cell_type": "code",
   "execution_count": 89,
   "id": "f1f63260-f5de-491e-94ff-ec33ebe36661",
   "metadata": {},
   "outputs": [
    {
     "data": {
      "text/plain": [
       "BertExtractorSettings(pretrained_model_name='google-bert/bert-base-uncased', process_attentions=<ProcessAttentions.get_all_mean: 'get_all_mean'>, n_blocks_to_average=6)"
      ]
     },
     "execution_count": 89,
     "metadata": {},
     "output_type": "execute_result"
    }
   ],
   "source": [
    "extractor.config"
   ]
  },
  {
   "cell_type": "markdown",
   "id": "de692b7c-e652-432b-b132-98531950e541",
   "metadata": {},
   "source": [
    "#### avg blocks"
   ]
  },
  {
   "cell_type": "code",
   "execution_count": 86,
   "id": "55845ca6-e306-4268-a310-99a02d5caf92",
   "metadata": {},
   "outputs": [],
   "source": [
    "text = \"the weather was terrible but we had great time playing video games\"\n",
    "attentions_dict = extractor.get_adjectives_attentions(text)"
   ]
  },
  {
   "cell_type": "code",
   "execution_count": 87,
   "id": "dcf90573-8a7a-47a3-8959-18beca3335e2",
   "metadata": {},
   "outputs": [
    {
     "data": {
      "image/png": "[encoded data removed]",
      "text/plain": [
       "<Figure size 640x480 with 1 Axes>"
      ]
     },
     "metadata": {},
     "output_type": "display_data"
    }
   ],
   "source": [
    "visualize_attentions_dict(attentions_dict, \"terrible\")"
   ]
  },
  {
   "cell_type": "code",
   "execution_count": 88,
   "id": "14aeaa62-3f0f-47f1-b5b1-5843872540a1",
   "metadata": {},
   "outputs": [
    {
     "data": {
      "image/png": "[encoded data removed]",
      "text/plain": [
       "<Figure size 640x480 with 1 Axes>"
      ]
     },
     "metadata": {},
     "output_type": "display_data"
    }
   ],
   "source": [
    "visualize_attentions_dict(attentions_dict, \"great\")"
   ]
  },
  {
   "cell_type": "code",
   "execution_count": null,
   "id": "ecf5140c-3b81-497b-8eef-b77f30022fd6",
   "metadata": {},
   "outputs": [],
   "source": []
  },
  {
   "cell_type": "markdown",
   "id": "34537a35-61df-4b24-b227-56f525080465",
   "metadata": {},
   "source": [
    "### LLM extractor"
   ]
  },
  {
   "cell_type": "markdown",
   "id": "1b229653-f09e-42d0-b94a-20064d8be120",
   "metadata": {},
   "source": [
    "#### gpt-3.5"
   ]
  },
  {
   "cell_type": "code",
   "execution_count": 31,
   "id": "0e06e036-bea1-4a87-92a5-4e395ef461fc",
   "metadata": {},
   "outputs": [
    {
     "name": "stdout",
     "output_type": "stream",
     "text": [
      "metric=0.599\n",
      "metric_with_penalty=0.451\n"
     ]
    }
   ],
   "source": [
    "target = val[\"target_spacy\"].apply(json.loads)\n",
    "\n",
    "pred = val[\"target_gpt_3.5\"].apply(json.loads)\n",
    "metric = mean_rouge_like_metric(pred_col=pred, target_col=target)\n",
    "print(f\"{metric=:.3f}\")\n",
    "\n",
    "metric_with_penalty = mean_rouge_like_metric(pred_col=pred, target_col=target, penalty=True)\n",
    "print(f\"{metric_with_penalty=:.3f}\")"
   ]
  },
  {
   "cell_type": "markdown",
   "id": "e849958f-6ea5-4518-9e39-25a8e2bbf0fb",
   "metadata": {},
   "source": [
    "#### gpt-4o"
   ]
  },
  {
   "cell_type": "code",
   "execution_count": 64,
   "id": "1f529d80-1963-457a-9a90-6cd8b1969fcf",
   "metadata": {},
   "outputs": [
    {
     "name": "stdout",
     "output_type": "stream",
     "text": [
      "metric=0.718\n",
      "metric_with_penalty=0.665\n"
     ]
    }
   ],
   "source": [
    "target = val.loc[val[\"target_gpt_4o\"].notna(), \"target_spacy\"].apply(json.loads)\n",
    "pred = val.loc[val[\"target_gpt_4o\"].notna(), \"target_gpt_4o\"].apply(json.loads)\n",
    "\n",
    "metric = mean_rouge_like_metric(pred_col=pred, target_col=target)\n",
    "print(f\"{metric=:.3f}\")\n",
    "\n",
    "metric_with_penalty = mean_rouge_like_metric(pred_col=pred, target_col=target, penalty=True)\n",
    "print(f\"{metric_with_penalty=:.3f}\")"
   ]
  },
  {
   "cell_type": "markdown",
   "id": "5c625dbc-7a19-4e66-b511-0941a4e4b4ff",
   "metadata": {},
   "source": [
    "### ChatGPT-4o target"
   ]
  },
  {
   "cell_type": "code",
   "execution_count": 36,
   "id": "b8bf88ff-edea-47a7-a048-5d5ec4abbd5e",
   "metadata": {},
   "outputs": [],
   "source": [
    "gpt_4o_target = pd.read_csv(root_dir/ \"data\" / \"labels_val_gpt_4o.csv\", sep=\"~\")"
   ]
  },
  {
   "cell_type": "code",
   "execution_count": 42,
   "id": "498f97b7-7159-4a59-999f-4519c8a4399f",
   "metadata": {},
   "outputs": [],
   "source": [
    "gpt_4o_target = gpt_4o_target.merge(val, on=\"text\", how=\"inner\")[[\"text\", \"target_gpt_4o\"]]"
   ]
  },
  {
   "cell_type": "code",
   "execution_count": 43,
   "id": "ac7aac94-8eb6-45eb-9e09-ea2fdc1f4dd7",
   "metadata": {},
   "outputs": [
    {
     "data": {
      "text/html": [
       "<div>\n",
       "<style scoped>\n",
       "    .dataframe tbody tr th:only-of-type {\n",
       "        vertical-align: middle;\n",
       "    }\n",
       "\n",
       "    .dataframe tbody tr th {\n",
       "        vertical-align: top;\n",
       "    }\n",
       "\n",
       "    .dataframe thead th {\n",
       "        text-align: right;\n",
       "    }\n",
       "</style>\n",
       "<table border=\"1\" class=\"dataframe\">\n",
       "  <thead>\n",
       "    <tr style=\"text-align: right;\">\n",
       "      <th></th>\n",
       "      <th>text</th>\n",
       "      <th>target_gpt_4o</th>\n",
       "    </tr>\n",
       "  </thead>\n",
       "  <tbody>\n",
       "    <tr>\n",
       "      <th>0</th>\n",
       "      <td>Several jets that are flying in the air perfor...</td>\n",
       "      <td>{\"objects\": {\"jets\": [\"several\"], \"air\": []}}</td>\n",
       "    </tr>\n",
       "    <tr>\n",
       "      <th>1</th>\n",
       "      <td>A sky view of several planes flying in formati...</td>\n",
       "      <td>{\"objects\": {\"planes\": [\"several\"], \"sky\": []}}</td>\n",
       "    </tr>\n",
       "    <tr>\n",
       "      <th>2</th>\n",
       "      <td>An airplane is letting off white smoke against...</td>\n",
       "      <td>{\"objects\": {\"airplane\": [], \"smoke\": [\"white\"...</td>\n",
       "    </tr>\n",
       "    <tr>\n",
       "      <th>3</th>\n",
       "      <td>A biplane flying upside down leaving a large v...</td>\n",
       "      <td>{\"objects\": {\"biplane\": [], \"vapor trail\": [\"l...</td>\n",
       "    </tr>\n",
       "    <tr>\n",
       "      <th>4</th>\n",
       "      <td>a white and red plane parked on a tarmac</td>\n",
       "      <td>{\"objects\": {\"plane\": [\"white\", \"red\"], \"tarma...</td>\n",
       "    </tr>\n",
       "    <tr>\n",
       "      <th>...</th>\n",
       "      <td>...</td>\n",
       "      <td>...</td>\n",
       "    </tr>\n",
       "    <tr>\n",
       "      <th>1020</th>\n",
       "      <td>A guy rides his skate board on the city sidewa...</td>\n",
       "      <td>{\"objects\": {\"guy\": [], \"skateboard\": [], \"sid...</td>\n",
       "    </tr>\n",
       "    <tr>\n",
       "      <th>1021</th>\n",
       "      <td>there is a man wearing a plad shirt riding a s...</td>\n",
       "      <td>{\"objects\": {\"man\": [], \"shirt\": [\"plaid\"], \"s...</td>\n",
       "    </tr>\n",
       "    <tr>\n",
       "      <th>1022</th>\n",
       "      <td>A served tray filled with smaller plates of food</td>\n",
       "      <td>{\"objects\": {\"tray\": [\"served\"], \"plates\": [\"s...</td>\n",
       "    </tr>\n",
       "    <tr>\n",
       "      <th>1023</th>\n",
       "      <td>A lunch tray with multiple compartments filled...</td>\n",
       "      <td>{\"objects\": {\"tray\": [\"lunch\"], \"compartments\"...</td>\n",
       "    </tr>\n",
       "    <tr>\n",
       "      <th>1024</th>\n",
       "      <td>Four plastic containers filled with food on a ...</td>\n",
       "      <td>{\"objects\": {\"containers\": [\"plastic\", \"four\"]...</td>\n",
       "    </tr>\n",
       "  </tbody>\n",
       "</table>\n",
       "<p>1025 rows × 2 columns</p>\n",
       "</div>"
      ],
      "text/plain": [
       "                                                   text  \\\n",
       "0     Several jets that are flying in the air perfor...   \n",
       "1     A sky view of several planes flying in formati...   \n",
       "2     An airplane is letting off white smoke against...   \n",
       "3     A biplane flying upside down leaving a large v...   \n",
       "4              a white and red plane parked on a tarmac   \n",
       "...                                                 ...   \n",
       "1020  A guy rides his skate board on the city sidewa...   \n",
       "1021  there is a man wearing a plad shirt riding a s...   \n",
       "1022   A served tray filled with smaller plates of food   \n",
       "1023  A lunch tray with multiple compartments filled...   \n",
       "1024  Four plastic containers filled with food on a ...   \n",
       "\n",
       "                                          target_gpt_4o  \n",
       "0         {\"objects\": {\"jets\": [\"several\"], \"air\": []}}  \n",
       "1       {\"objects\": {\"planes\": [\"several\"], \"sky\": []}}  \n",
       "2     {\"objects\": {\"airplane\": [], \"smoke\": [\"white\"...  \n",
       "3     {\"objects\": {\"biplane\": [], \"vapor trail\": [\"l...  \n",
       "4     {\"objects\": {\"plane\": [\"white\", \"red\"], \"tarma...  \n",
       "...                                                 ...  \n",
       "1020  {\"objects\": {\"guy\": [], \"skateboard\": [], \"sid...  \n",
       "1021  {\"objects\": {\"man\": [], \"shirt\": [\"plaid\"], \"s...  \n",
       "1022  {\"objects\": {\"tray\": [\"served\"], \"plates\": [\"s...  \n",
       "1023  {\"objects\": {\"tray\": [\"lunch\"], \"compartments\"...  \n",
       "1024  {\"objects\": {\"containers\": [\"plastic\", \"four\"]...  \n",
       "\n",
       "[1025 rows x 2 columns]"
      ]
     },
     "execution_count": 43,
     "metadata": {},
     "output_type": "execute_result"
    }
   ],
   "source": [
    "gpt_4o_target"
   ]
  },
  {
   "cell_type": "code",
   "execution_count": 47,
   "id": "0320dd20-516e-4c24-b417-25204a43e300",
   "metadata": {},
   "outputs": [
    {
     "name": "stdout",
     "output_type": "stream",
     "text": [
      "metric=0.911\n",
      "metric_with_penalty=0.544\n"
     ]
    }
   ],
   "source": [
    "pred = gpt_4o_target[\"text\"].apply(extractor.extract)\n",
    "target = gpt_4o_target[\"target_gpt_4o\"].apply(json.loads)\n",
    "\n",
    "metric = mean_rouge_like_metric(pred_col=pred, target_col=target)\n",
    "print(f\"{metric=:.3f}\")\n",
    "\n",
    "metric_with_penalty = mean_rouge_like_metric(pred_col=pred, target_col=target, penalty=True)\n",
    "print(f\"{metric_with_penalty=:.3f}\")"
   ]
  },
  {
   "cell_type": "code",
   "execution_count": null,
   "id": "0d390885-8030-4c58-ab6a-2296321ba1c6",
   "metadata": {},
   "outputs": [],
   "source": []
  }
 ],
 "metadata": {
  "kernelspec": {
   "display_name": "poetry_env",
   "language": "python",
   "name": "poetry_env"
  },
  "language_info": {
   "codemirror_mode": {
    "name": "ipython",
    "version": 3
   },
   "file_extension": ".py",
   "mimetype": "text/x-python",
   "name": "python",
   "nbconvert_exporter": "python",
   "pygments_lexer": "ipython3",
   "version": "3.12.2"
  }
 },
 "nbformat": 4,
 "nbformat_minor": 5
}
